{
 "cells": [
  {
   "cell_type": "markdown",
   "metadata": {},
   "source": [
    "## Домашнее задание 2. Часть 1\n",
    "### Полины Кудрявцевой, БКЛ182"
   ]
  },
  {
   "cell_type": "markdown",
   "metadata": {},
   "source": [
    "* Здесь добавляются библиотеки и подключается модуль проверки PEP:"
   ]
  },
  {
   "cell_type": "code",
   "execution_count": 4,
   "metadata": {},
   "outputs": [],
   "source": [
    "import json"
   ]
  },
  {
   "cell_type": "code",
   "execution_count": 5,
   "metadata": {},
   "outputs": [],
   "source": [
    "from pymystem3 import Mystem\n",
    "m = Mystem()"
   ]
  },
  {
   "cell_type": "code",
   "execution_count": 6,
   "metadata": {},
   "outputs": [],
   "source": [
    "import nltk\n",
    "from nltk.tokenize import word_tokenize\n",
    "\n",
    "from pymorphy2 import MorphAnalyzer\n",
    "morph = MorphAnalyzer()"
   ]
  },
  {
   "cell_type": "markdown",
   "metadata": {},
   "source": [
    "* Файл читается и ему присваивается переменная 'text'.\n",
    "* Книга, которую я выбрала, - \"Праздник, который всегда с тобой\" Э. Хэмингуэя."
   ]
  },
  {
   "cell_type": "code",
   "execution_count": 7,
   "metadata": {},
   "outputs": [],
   "source": [
    "with open('A Moveable Feast.txt', 'r', encoding='utf-8') as file:\n",
    "    text = file.read()"
   ]
  },
  {
   "cell_type": "markdown",
   "metadata": {},
   "source": [
    "### 2) Книга обрабатывается с помощью mystem.\n",
    "* Замеряется время анализа книги."
   ]
  },
  {
   "cell_type": "code",
   "execution_count": 8,
   "metadata": {},
   "outputs": [
    {
     "name": "stdout",
     "output_type": "stream",
     "text": [
      "CPU times: user 324 ms, sys: 82.4 ms, total: 407 ms\n",
      "Wall time: 5.23 s\n"
     ]
    }
   ],
   "source": [
    "%%time\n",
    "analyzed_text = m.analyze(text)"
   ]
  },
  {
   "cell_type": "markdown",
   "metadata": {},
   "source": [
    "* После обработки текст записывается в файл формата json.\n",
    "* Чтобы читать файл стало удобнее, добавляется параментр indent.\n",
    "* В тексте есть не ascii-символы, поэтому, чтобы можно было прочитать файл, добавляется параметр ensure_ascii."
   ]
  },
  {
   "cell_type": "code",
   "execution_count": 9,
   "metadata": {},
   "outputs": [],
   "source": [
    "with open('A Moveable Feast_mystem.json', 'w', encoding='utf-8') as file_json:\n",
    "\n",
    "    json.dump(analyzed_text, file_json, ensure_ascii=False)"
   ]
  },
  {
   "cell_type": "markdown",
   "metadata": {},
   "source": [
    "### 3) Книга обрабатывается с помощью pymorphy.\n",
    "* Замеряется время токенизации."
   ]
  },
  {
   "cell_type": "code",
   "execution_count": 10,
   "metadata": {},
   "outputs": [
    {
     "name": "stdout",
     "output_type": "stream",
     "text": [
      "CPU times: user 443 ms, sys: 12.6 ms, total: 456 ms\n",
      "Wall time: 483 ms\n"
     ]
    }
   ],
   "source": [
    "%%time\n",
    "tokenized_text = word_tokenize(text)"
   ]
  },
  {
   "cell_type": "code",
   "execution_count": 11,
   "metadata": {},
   "outputs": [],
   "source": [
    "tokens = word_tokenize(text)\n",
    "words = [w for w in tokens if w.isalpha()]\n",
    "\n",
    "lemmas = []\n",
    "\n",
    "for i in words:\n",
    "    analise = morph.parse(i)\n",
    "    lemmas.append(analise)"
   ]
  },
  {
   "cell_type": "markdown",
   "metadata": {},
   "source": [
    "* Слова разбираются с помощью pymorphy."
   ]
  },
  {
   "cell_type": "code",
   "execution_count": 12,
   "metadata": {},
   "outputs": [],
   "source": [
    "forms_from_text = []\n",
    "for lemma in lemmas:\n",
    "    one = lemma[0]\n",
    "    form = [one.normal_form, one.tag.POS]\n",
    "    forms_from_text.append(form)"
   ]
  },
  {
   "cell_type": "markdown",
   "metadata": {},
   "source": [
    "* Результат записывается в файл формата json.\n",
    "* Чтобы читать файл стало удобнее, добавляется параментр indent.\n",
    "* В тексте есть не ascii-символы, поэтому, чтобы можно было прочитать файл, добавляется параметр ensure_ascii."
   ]
  },
  {
   "cell_type": "code",
   "execution_count": 13,
   "metadata": {},
   "outputs": [],
   "source": [
    "with open('A Moveable Feast_pymorph.json', 'w', encoding='utf-8') as file_json:\n",
    "\n",
    "    json.dump(forms_from_text, file_json, ensure_ascii=False)"
   ]
  },
  {
   "cell_type": "markdown",
   "metadata": {},
   "source": [
    "### 4) 1. Какую долю слов составляет каждая часть речи?"
   ]
  },
  {
   "cell_type": "code",
   "execution_count": 14,
   "metadata": {},
   "outputs": [],
   "source": [
    "mystem_py = []\n",
    "\n",
    "for line in open('A Moveable Feast_mystem.json', encoding='utf-8'):\n",
    "    mystem_py.extend(json.loads(line))"
   ]
  },
  {
   "cell_type": "code",
   "execution_count": 26,
   "metadata": {},
   "outputs": [
    {
     "name": "stdout",
     "output_type": "stream",
     "text": [
      "NOUN\n",
      "ADJF\n",
      "ADVB\n",
      "PREP\n",
      "CONJ\n",
      "None\n",
      "PRTF\n",
      "NPRO\n",
      "VERB\n",
      "PRCL\n",
      "ADJS\n",
      "INFN\n",
      "NUMR\n",
      "PRTS\n",
      "COMP\n",
      "GRND\n",
      "PRED\n",
      "INTJ\n"
     ]
    }
   ],
   "source": [
    "import collections\n",
    "\n",
    "counter_of_forms = collections.Counter()\n",
    "allf = 0\n",
    "for i in forms_from_text:\n",
    "    allf = allf + 1\n",
    "    form = i[1]\n",
    "    counter_of_forms[form] += 1\n",
    "\n",
    "for form in counter_of_forms:\n",
    "    print(form, round(counter_of_forms[form]/allf, 5))"
   ]
  },
  {
   "cell_type": "code",
   "execution_count": 24,
   "metadata": {},
   "outputs": [
    {
     "name": "stdout",
     "output_type": "stream",
     "text": [
      "быть 745\n",
      "сказать 331\n",
      "мочь 176\n",
      "знать 90\n",
      "хотеть 71\n",
      "говорить 62\n",
      "спросить 62\n",
      "стать 58\n",
      "писать 45\n",
      "нравиться 45\n",
      "думать 44\n",
      "пить 43\n",
      "помнить 43\n",
      "жить 35\n",
      "идти 33\n",
      "написать 33\n",
      "работать 32\n",
      "любить 32\n",
      "видеть 30\n",
      "понимать 29\n"
     ]
    }
   ],
   "source": [
    "counter_of_verbs = collections.Counter()\n",
    "for i in forms_from_text:\n",
    "    if i[1] == 'VERB':\n",
    "        counter_of_verbs[i[0]] += 1\n",
    "        \n",
    "top_of_verbs = counter_of_verbs.most_common(20)\n",
    "for i in top_verb:\n",
    "    print(i[0], i[1])"
   ]
  },
  {
   "cell_type": "code",
   "execution_count": 23,
   "metadata": {},
   "outputs": [
    {
     "name": "stdout",
     "output_type": "stream",
     "text": [
      "очень 156\n",
      "уже 79\n",
      "где 74\n",
      "потом 72\n",
      "всегда 69\n",
      "хорошо 66\n",
      "пока 56\n",
      "тогда 55\n",
      "потому 54\n",
      "там 51\n",
      "никогда 50\n",
      "теперь 46\n",
      "много 39\n",
      "всего 36\n",
      "снова 36\n",
      "иногда 35\n",
      "здесь 33\n",
      "слишком 32\n",
      "тоже 31\n",
      "тут 27\n"
     ]
    }
   ],
   "source": [
    "counter_of_adverbs = collections.Counter()\n",
    "for i in forms_from_text:\n",
    "    if i[1] == 'ADVB':\n",
    "        counter_of_adverbs[i[0]] += 1\n",
    "    \n",
    "top_of_adverbs = counter_of_adverbs.most_common(20)   \n",
    "for i in top_adv:\n",
    "    print(i[0], i[1])"
   ]
  },
  {
   "cell_type": "code",
   "execution_count": 18,
   "metadata": {},
   "outputs": [
    {
     "name": "stdout",
     "output_type": "stream",
     "text": [
      "Самые частотные биграмы:\n",
      "('и', 'я')\n",
      "('я', 'не')\n",
      "('сказать', 'я')\n",
      "('в', 'тот')\n",
      "('не', 'быть')\n",
      "('это', 'быть')\n",
      "('сказать', 'что')\n",
      "('что', 'я')\n",
      "('не', 'мочь')\n",
      "('и', 'не')\n",
      "('что', 'он')\n",
      "('он', 'быть')\n",
      "('потому', 'что')\n",
      "('он', 'не')\n",
      "('я', 'быть')\n",
      "('когда', 'я')\n",
      "('мисс', 'стайна')\n",
      "('у', 'я')\n",
      "('и', 'мы')\n",
      "('сказать', 'он')\n",
      "('у', 'он')\n",
      "('а', 'потом')\n",
      "('и', 'в')\n",
      "('когда', 'мы')\n",
      "('и', 'он')\n"
     ]
    }
   ],
   "source": [
    "massiv = []\n",
    "for i in forms_from_text:\n",
    "    massiv.append(i[0])\n",
    "bi = nltk.bigrams(massiv)\n",
    "tri = nltk.trigrams(massiv)\n",
    "\n",
    "bi_count = collections.Counter(bi).most_common(25)\n",
    "tri_count = collections.Counter(tri).most_common(25)\n",
    "\n",
    "for i in massiv:\n",
    "    one_count = collections.Counter(i).most_common(25)\n",
    "    \n",
    "print('Самые частотные биграмы:')\n",
    "for i in bi_count:\n",
    "    print(i[0])"
   ]
  },
  {
   "cell_type": "code",
   "execution_count": 19,
   "metadata": {},
   "outputs": [
    {
     "name": "stdout",
     "output_type": "stream",
     "text": [
      "Самые частотные триграмы:\n",
      "('в', 'конец', 'конец')\n",
      "('в', 'тот', 'день')\n",
      "('он', 'сказать', 'что')\n",
      "('в', 'то', 'время')\n",
      "('я', 'сказать', 'что')\n",
      "('в', 'тот', 'вечер')\n",
      "('о', 'тот', 'что')\n",
      "('до', 'тот', 'пора')\n",
      "('улица', 'кардинал', 'лемуана')\n",
      "('я', 'понять', 'что')\n",
      "('и', 'я', 'быть')\n",
      "('с', 'тот', 'пора')\n",
      "('у', 'он', 'быть')\n",
      "('до', 'тот', 'как')\n",
      "('я', 'никогда', 'не')\n",
      "('после', 'тот', 'как')\n",
      "('и', 'я', 'не')\n",
      "('тот', 'пора', 'пока')\n",
      "('у', 'мы', 'быть')\n",
      "('мисс', 'стайна', 'и')\n",
      "('у', 'я', 'не')\n",
      "('я', 'познакомиться', 'с')\n",
      "('сказать', 'я', 'и')\n",
      "('я', 'знать', 'что')\n",
      "('я', 'решить', 'что')\n"
     ]
    }
   ],
   "source": [
    "print('Самые частотные триграмы:')\n",
    "for i in tri_count:\n",
    "    print(i[0])"
   ]
  }
 ],
 "metadata": {
  "kernelspec": {
   "display_name": "Python 3",
   "language": "python",
   "name": "python3"
  },
  "language_info": {
   "codemirror_mode": {
    "name": "ipython",
    "version": 3
   },
   "file_extension": ".py",
   "mimetype": "text/x-python",
   "name": "python",
   "nbconvert_exporter": "python",
   "pygments_lexer": "ipython3",
   "version": "3.7.3"
  }
 },
 "nbformat": 4,
 "nbformat_minor": 2
}
